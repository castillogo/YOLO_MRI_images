{
 "cells": [
  {
   "cell_type": "code",
   "execution_count": 1,
   "metadata": {},
   "outputs": [
    {
     "name": "stdout",
     "output_type": "stream",
     "text": [
      "Requirement already satisfied: imageio in c:\\users\\casti\\appdata\\local\\continuum\\anaconda3\\lib\\site-packages (2.6.0)\n",
      "Requirement already satisfied: numpy in c:\\users\\casti\\appdata\\local\\continuum\\anaconda3\\lib\\site-packages (from imageio) (1.16.5)\n",
      "Requirement already satisfied: pillow in c:\\users\\casti\\appdata\\local\\continuum\\anaconda3\\lib\\site-packages (from imageio) (6.2.0)\n",
      "Note: you may need to restart the kernel to use updated packages.\n"
     ]
    }
   ],
   "source": [
    "pip install imageio"
   ]
  },
  {
   "cell_type": "code",
   "execution_count": 3,
   "metadata": {},
   "outputs": [],
   "source": [
    "import imageio\n",
    "import pandas as pd\n",
    "import matplotlib.pyplot as plt\n",
    "import seaborn as sns\n",
    "import os"
   ]
  },
  {
   "cell_type": "code",
   "execution_count": 14,
   "metadata": {},
   "outputs": [],
   "source": [
    "list_of_images = os.listdir()"
   ]
  },
  {
   "cell_type": "code",
   "execution_count": 15,
   "metadata": {},
   "outputs": [],
   "source": [
    "list_of_images = list_of_images[2:-1]"
   ]
  },
  {
   "cell_type": "code",
   "execution_count": 16,
   "metadata": {},
   "outputs": [
    {
     "data": {
      "text/plain": [
       "['EXIM-19-JCPS-HIFU-BN175-BRWAY001949_catface.jpg',\n",
       " 'EXIM-19-JCPS-HIFU-BN175-BRWAY002010_catface.jpg',\n",
       " 'EXIM-19-JCPS-HIFU-BN175-BRWAY002011_catface.jpg',\n",
       " 'EXIM-19-JCPS-HIFU-BN175-BRWAY002012_catface.jpg',\n",
       " 'EXIM-19-JCPS-HIFU-BN175-BRWAY002013_catface.jpg',\n",
       " 'EXIM-19-JCPS-HIFU-BN175-BRWAY002014_catface.jpg',\n",
       " 'EXIM-19-JCPS-HIFU-BN175-BRWAY002015_catface.jpg',\n",
       " 'EXIM-19-JCPS-HIFU-BN175-BRWAY002016_catface.jpg',\n",
       " 'EXIM-19-JCPS-HIFU-BN175-BRWAY002017_catface.jpg',\n",
       " 'EXIM-19-JCPS-HIFU-BN175-BRWAY002018_catface.jpg',\n",
       " 'EXIM-19-JCPS-HIFU-BN175-BRWAY002019_catface.jpg',\n",
       " 'EXIM-19-JCPS-HIFU-BN175-BRWAY002020_catface.jpg',\n",
       " 'EXIM-19-JCPS-HIFU-WAGRI759_catface.jpg',\n",
       " 'EXIM-19-JCPS-HIFU-WAGRI760_catface.jpg',\n",
       " 'EXIM-19-JCPS-HIFU-WAGRI761_catface.jpg',\n",
       " 'EXIM-19-JCPS-HIFU-WAGRI762_catface.jpg',\n",
       " 'EXIM-19-JCPS-HIFU-WAGRI763_catface.jpg',\n",
       " 'EXIM-19-JCPS-HIFU-WAGRI764_catface.jpg',\n",
       " 'EXIM-19-JCPS-HIFU-WAGRI766_catface.jpg',\n",
       " 'EXIM-19-JCPS-HIFU-WAGRI768_catface.jpg',\n",
       " 'EXIM-19-JCPS-HIFU-WAGRI769_catface.jpg',\n",
       " 'EXIM-19-JCPS-HIFU-WAGRI770_catface.jpg',\n",
       " 'EXIM-19-JCPS-HIFU-WAGRI771_catface.jpg',\n",
       " 'EXIM-19-JCPS-HIFU-WAGRI772_catface.jpg',\n",
       " 'EXIM-19-JCPS-HIFU-WAGRI773_catface.jpg',\n",
       " 'EXIM-19-JCPS-HIFU-WAGRI774_catface.jpg',\n",
       " 'EXIM-19-JCPS-HIFU-WAGRI820_catface.jpg',\n",
       " 'EXIM-19-JCPS-HIFU-WAGRI821_catface.jpg',\n",
       " 'EXIM-19-JCPS-HIFU-WAGRI822_catface.jpg',\n",
       " 'EXIM-19-JCPS-HIFU-WAGRI823_catface.jpg',\n",
       " 'EXIM-19-JCPS-HIFU-WAGRI824_catface.jpg',\n",
       " 'EXIM-19-JCPS-HIFU-WAGRI825_catface.jpg',\n",
       " 'EXIM-19-JCPS-HIFU-WAGRI826_catface.jpg',\n",
       " 'EXIM-19-JCPS-HIFU-WAGRI827_catface.jpg',\n",
       " 'EXIM-19-JCPS-HIFU-WAGRI828_catface.jpg',\n",
       " 'EXIM-19-JCPS-HIFU-WAGRI829_catface.jpg',\n",
       " 'EXIM-19-JCPS-HIFU-WAGRI830_catface.jpg',\n",
       " 'EXIM-19-JCPS-HIFU-WAGRI861_catface.jpg',\n",
       " 'EXIM-19-JCPS-HIFU-WAGRI862_catface.jpg',\n",
       " 'EXIM-19-JCPS-HIFU-WAGRI863_catface.jpg',\n",
       " 'EXIM-19-JCPS-HIFU-WAGRI864_catface.jpg',\n",
       " 'EXIM-19-JCPS-HIFU-WAGRI868_catface.jpg',\n",
       " 'EXIM-19-JCPS-HIFU-WAGRI869_catface.jpg',\n",
       " 'EXIM-19-JCPS-HIFU-WAGRI870_catface.jpg']"
      ]
     },
     "execution_count": 16,
     "metadata": {},
     "output_type": "execute_result"
    }
   ],
   "source": [
    "list_of_images"
   ]
  },
  {
   "cell_type": "code",
   "execution_count": 17,
   "metadata": {},
   "outputs": [],
   "source": [
    "list_of_images2 = []\n",
    "for image in list_of_images:\n",
    "    im = imageio.imread(image)\n",
    "    list_of_images2.append(im)"
   ]
  },
  {
   "cell_type": "code",
   "execution_count": 19,
   "metadata": {},
   "outputs": [],
   "source": [
    "imageio.mimsave('tumors.gif', list_of_images2, fps=3)"
   ]
  },
  {
   "cell_type": "code",
   "execution_count": null,
   "metadata": {},
   "outputs": [],
   "source": []
  }
 ],
 "metadata": {
  "kernelspec": {
   "display_name": "Python 3",
   "language": "python",
   "name": "python3"
  },
  "language_info": {
   "codemirror_mode": {
    "name": "ipython",
    "version": 3
   },
   "file_extension": ".py",
   "mimetype": "text/x-python",
   "name": "python",
   "nbconvert_exporter": "python",
   "pygments_lexer": "ipython3",
   "version": "3.7.4"
  }
 },
 "nbformat": 4,
 "nbformat_minor": 2
}
